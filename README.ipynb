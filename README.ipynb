{
 "cells": [
  {
   "cell_type": "markdown",
   "id": "16810344-777e-413e-9af5-df532ac3229a",
   "metadata": {},
   "source": [
    "# **Genome-wide analysis of Structural Variants in Parkinsons Disease**"
   ]
  },
  {
   "cell_type": "markdown",
   "id": "6ddc53a1-a14d-440a-b2eb-0064e2bc6dc6",
   "metadata": {},
   "source": [
    "**Written By:** Kimberley Billingsley, Cornelis Blauwendraat, Mike Nalls\n",
    "\n",
    "**Last Updated**: June 2022 \n",
    "\n",
    "**Quick Description**: Detect and genotype SVs in the LNG PD genomes and run a GWAS with the GATK-SV bi-allelic autosomal 1% FDR  SV calls.  \n",
    "\n",
    "**Link to Manuscript** \n",
    "\n",
    "https://docs.google.com/document/d/1g9Kx_FMqsf_kEZg_EhwJ-wuEjxx0I0hTnV9WztJpoJ4/edit?usp=sharing "
   ]
  },
  {
   "cell_type": "markdown",
   "id": "bfac678f-089c-46b4-be8d-6d3ca205d061",
   "metadata": {},
   "source": [
    "### **Background:**"
   ]
  },
  {
   "cell_type": "markdown",
   "id": "c363674b-a4bd-4d3a-a7e5-a6266c08fc9e",
   "metadata": {},
   "source": [
    "Parkinson’s disease (PD) is a complex neurodegenerative disorder, affecting approximately one million individuals in the USA alone. A significant proportion of risk for PD is driven by genetics. Despite this, the majority of the common genetic variation that contributes to PD is unknown, in-part because  previous genetic studies have focussed solely on the contribution of single nucleotide variants (SNVs). Structural variants (SVs) represent a significant source of genetic variation in the human genome. Yet, SVs have not been cataloged on a genome-wide scale, and their contribution to the risk of PD remains unknown. For this analysis study we 1) leveraged the GATK-SV pipeline to detect and genotype SVs in 7772 short-read sequencing (SRS) data and 2) generated a subset of matched whole-genome Oxford Nanopore (ONT) long-read sequencing (LRS) data from the PPMI cohort to allow for comprehensive SV confirmation. We detected, genotyped, and tested 3154 “high-confidence” SV loci, representing over 412 million nucleotides of non-reference genetic variation. Utilizing the LRS data we validated three SVs that may drive the association signals at known PD risk loci, including a 2kb deletion within the gene LRRN4. Further we confirm that the majority of the SVs in the human genome cannot be not detected using SRS alone, encompassing on average around 4 million nucleotides of inaccessible sequence per genome. Therefore, although these data provide the most comprehensive survey of the contribution of SVs to the genetic risk of PD to date, this study highlights the need for  large-scale long-read datasets to fully elucidate the role of SV in PD. "
   ]
  },
  {
   "cell_type": "markdown",
   "id": "8b63b938-6cca-496b-b9c6-aaa9e7528b4c",
   "metadata": {},
   "source": [
    "### **Structure of README:**"
   ]
  },
  {
   "cell_type": "markdown",
   "id": "48acd46a-2845-4e0c-9055-99c8874c4640",
   "metadata": {},
   "source": [
    "**1.Short-Read Sequencing (SRS) GATK-SV SV GWAS** \n",
    "\n",
    " 1.1. Variant QC = Extract \"PASS\" SV \n",
    " \n",
    " 1.2. samples QC= Remove samples that are non-European, do not carry known PD mutations and that have missing pheno/age/sex\n",
    " \n",
    " 1.3. Make SV specific PCs\n",
    " \n",
    " 1.4. Run stepwise logistic regression to find associated PCs with SNV and SV\n",
    " \n",
    " 1.5. Run  GATK-SV risk PD GWAS\n",
    " \n",
    " 1.6. Plot Manhatten (on the hudson) Vs Summary stats of the Nalls 2019 SNV Meta-analysis 5 \n",
    " \n",
    " 1.7. Plot QQ-plot\n",
    " "
   ]
  },
  {
   "cell_type": "markdown",
   "id": "678891a7-506a-4fd4-933a-88c40089a94a",
   "metadata": {},
   "source": [
    "**2. Linkage Disequilibruim Analysis SNV & SV**\n",
    "\n",
    "2.1. Calc R2 for PR risk SNPs\n",
    "\n",
    "2.2. Pull out LD SV of interest "
   ]
  },
  {
   "cell_type": "markdown",
   "id": "5bdd54c7-0f17-4a0e-8701-6ec3a42c13da",
   "metadata": {},
   "source": [
    "**3. Long-Read Sequencing (LRS) SV analysis with Sniffles2**\n",
    "\n",
    "3.1. Run Sniffle2 on hg38 mapped LRS bam\n",
    "\n",
    "3.2. Run variant QC with SURVIVOR"
   ]
  },
  {
   "cell_type": "markdown",
   "id": "d8c6dad5-db68-443b-a99e-cdf8e6932fe3",
   "metadata": {},
   "source": [
    "**4. SRS SV confirmation with LRS and Truvari**\n",
    "\n",
    "4.1. Create SRS GATK-SV vcf per sample\n",
    "\n",
    "4.2. Run Truvari comparing SRS and LRS "
   ]
  },
  {
   "cell_type": "markdown",
   "id": "c808c460-472d-4984-8a0a-ed5fd19de1bb",
   "metadata": {},
   "source": [
    "### **1.Short-Read Sequencing (SRS) GATK-SV SV GWAS** "
   ]
  },
  {
   "cell_type": "markdown",
   "id": "3adb4ef7-05e0-466f-bf94-7d28adb9c6f5",
   "metadata": {},
   "source": [
    "#### 1.1. Variant QC = Extract \"PASS\" SV "
   ]
  },
  {
   "cell_type": "code",
   "execution_count": null,
   "id": "6b88f4ee-ed8b-4d23-9b68-6b29cd308754",
   "metadata": {},
   "outputs": [],
   "source": [
    "module load bcftools"
   ]
  },
  {
   "cell_type": "code",
   "execution_count": null,
   "id": "99c54a69-2d80-455a-ba8c-cc188d51abe0",
   "metadata": {},
   "outputs": [],
   "source": [
    "bcftools view -f PASS gatksv_1percent_samples_for_gwas.vcf > pass_gatksv_1percent_samples_for_gwas.vcf"
   ]
  },
  {
   "cell_type": "markdown",
   "id": "0e2cb04f-c84f-4f0d-9aec-ebe25387228e",
   "metadata": {},
   "source": [
    "#### 1.2. samples QC= Remove samples that are non-European, do not carry known PD mutations and that have missing pheno/age/sex"
   ]
  },
  {
   "cell_type": "code",
   "execution_count": null,
   "id": "0c4a6b71-061c-474b-b431-4f2f9a37ff7d",
   "metadata": {},
   "outputs": [],
   "source": [
    "bcftools view -S sample_IDs_gwas.txt --force-samples pass_gatksv_1percent_samples_for_gwas.vcf -> clean_gatksv_1percent_samples_for_gwas.vcf"
   ]
  },
  {
   "cell_type": "code",
   "execution_count": null,
   "id": "df28eae3-f58f-4bac-a961-4ca8e4a1f5e5",
   "metadata": {},
   "outputs": [],
   "source": [
    "echo \"How many samples are left for GWAS\"\n",
    "bcftools query -l  clean_gatksv_1percent_samples_for_gwas.vcf | wc -l"
   ]
  },
  {
   "cell_type": "markdown",
   "id": "4e385b5c-f8a1-41f5-bee0-cae65889f7a4",
   "metadata": {},
   "source": [
    "#### 1.3. Make SV specific PCs"
   ]
  },
  {
   "cell_type": "code",
   "execution_count": null,
   "id": "ec1e838b-5d71-4fd6-8362-9d31aa1d11a9",
   "metadata": {},
   "outputs": [],
   "source": [
    "module load flashpca\n",
    "plink --vcf clean_gatksv_1percent_samples_for_gwas.vcf --maf 0.01 --geno 0.01 --hwe 5e-6 --autosome --make-bed --out FILENAME_2 \n",
    "plink --bfile FILENAME_2 --indep-pairwise 1000 10 0.02 --autosome --out pruned_data\n",
    "plink --bfile FILENAME_2 --extract pruned_data.prune.in --make-bed --out FILENAME_3 \n",
    "flashpca --bfile FILENAME_3 --suffix _SV_filter_pruned_forPCA.txt --numthreads 19"
   ]
  },
  {
   "cell_type": "code",
   "execution_count": null,
   "id": "f3324a94-1508-44f4-93b5-b5cf9cd1005d",
   "metadata": {},
   "outputs": [],
   "source": [
    "## in R\n",
    "SV.PC <-read.table(file=\"pcs_SV_filter_pruned_forPCA.txt\", header =T)\n",
    "SNP.PC <-read.table(file=\"pcs_filter_pruned_forPCA.txt\", header =T)\n",
    "old.pheno <- read.table(file=\"pheno_for_tr.association_tr_snp_pcs.txt\", header =T)\n",
    "colnames(SV.PC) <- c(\"FID\", \"IID\", \"SV_PC1\", \"SV_PC2\", \"SV_PC3\", \"SV_PC4\", \"SV_PC5\", \"SV_PC6\", \"SV_PC7\", \"SV_PC8\", \"SV_PC9\", \"SV_PC10\")\n",
    "SVandSNPpc <- merge(SV.PC, SNP.PC, by=\"FID\")\n",
    "old_covar_needed <- old.pheno[c(\"FID\",\"IID\",\"SEX\",\"PHENO\", \"AGE_ANALYSIS\")] \n",
    "new.pheno <- merge(SVandSNPpc, old_covar_needed, by=\"FID\")\n",
    "new_covar <- new.pheno[c(\"FID\",\"IID\",\"SEX\",\"PHENO\", \"AGE_ANALYSIS\",\"SV_PC1\",\"SV_PC2\", \"SV_PC3\", \"SV_PC4\", \"SV_PC5\", \"SV_PC6\", \"SV_PC7\", \"SV_PC8\", \"SV_PC9\", \"SV_PC10\", \"SNV_PC1\", \"SNV_PC2\", \"SNV_PC3\", \"SNV_PC4\", \"SNV_PC5\", \"SNV_PC6\", \"SNV_PC7\", \"SNV_PC8\", \"SNV_PC9\", \"SNV_PC10\")] \n",
    "write.table(new_covar, file=\"pheno_for_SV.association_SV_snp_pcs.tab\",sep=\"\\t\", row.names = F, quote=F)"
   ]
  },
  {
   "cell_type": "markdown",
   "id": "76824303-90c6-40c6-89d2-f9fa2236f86b",
   "metadata": {},
   "source": [
    "#### 1.4. Run stepwise logistic regression to find associated PCs with SNV and SV"
   ]
  },
  {
   "cell_type": "code",
   "execution_count": null,
   "id": "f7d7637b-1c18-4019-8f2d-b029a5dc53c1",
   "metadata": {},
   "outputs": [],
   "source": [
    "## in R \n",
    "\n",
    "##Run Step wise regression to indentify what covariates are associated with PD(pheno) so we know what to include in association analysis \n",
    "\n",
    "library(MASS)\n",
    "PCs <- read.table(file=\"pheno_for_SV.association_SV_snp_pcs.tab\", header =T)\n",
    "full.model <- lm(PHENO ~ SEX + AGE_ANALYSIS + SNV_PC1 + SNV_PC2 + SNV_PC3 + SNV_PC4 + SNV_PC5 + SNV_PC6 + SNV_PC7 + SNV_PC8 + SNV_PC9 + SNV_PC10 + SV_PC1 + SV_PC2 + SV_PC3  + SV_PC4 + SV_PC5 + SV_PC6 + SV_PC7 + SV_PC8 + SV_PC9 + SV_PC10, data = PCs)\n",
    "summary(full.model)"
   ]
  },
  {
   "cell_type": "code",
   "execution_count": null,
   "id": "bc720f79-18b3-48d4-a579-77ab39d655f1",
   "metadata": {},
   "outputs": [],
   "source": [
    "# Stepwise regression model\n",
    "step.model <- stepAIC(full.model, direction = \"both\", trace = FALSE)\n",
    "summary(step.model)"
   ]
  },
  {
   "cell_type": "code",
   "execution_count": null,
   "id": "b7d88f64-c922-4a91-931e-20b2180b1ef2",
   "metadata": {},
   "outputs": [],
   "source": [
    "## make a reduced covariate file based on all the siginicant PCs shown in the list "
   ]
  },
  {
   "cell_type": "code",
   "execution_count": null,
   "id": "3ef60351-ad09-471b-ac01-779b4353f0d4",
   "metadata": {},
   "outputs": [],
   "source": [
    "for_reduced_covar <- PCs[c(\"FID\",\"IID\",\"SEX\",\"AGE_ANALYSIS\",\"SNV_PC1\",\"SNV_PC2\",\"SNV_PC4\",\"SNV_PC5\",\"SNV_PC6\",\"SNV_PC7\",\"SNV_PC8\",\"SNV_PC9\",\"SNV_PC10\",\"SV_PC1\",\"SV_PC2\",\"SV_PC3\",\"SV_PC4\",\"SV_PC5\",\"SV_PC6\",\"SV_PC8\",\"SV_PC9\",\"SV_PC10\")]"
   ]
  },
  {
   "cell_type": "code",
   "execution_count": null,
   "id": "8a817bc8-020d-44b8-b993-2b266767e0ed",
   "metadata": {},
   "outputs": [],
   "source": [
    "write.table(for_reduced_covar, file=\"1percent_all_reduced_covar_sv.tab\",sep=\"\\t\", row.names = F, quote=F)"
   ]
  },
  {
   "cell_type": "markdown",
   "id": "5a4613e2-e36a-4ef4-9b6c-043ad448f0f7",
   "metadata": {},
   "source": [
    "#### 1.5. Run  GATK-SV risk PD GWAS"
   ]
  },
  {
   "cell_type": "code",
   "execution_count": null,
   "id": "2ba24d2a-6bab-4c51-9764-1568afc8f77d",
   "metadata": {},
   "outputs": [],
   "source": [
    "module load plink\n",
    "plink --vcf clean_gatksv_1percent_samples_for_gwas.vcf --maf 0.01 --geno 0.01 --hwe 5e-6 --autosome --make-bed --out 1percent_clean_PD_gaksv_pass_bnd_maf_0.01_hwe_5e6_geno0.01\n",
    "module load plink/2.0_alpha_1_final\n",
    "plink2 --covar 1percent_all_reduced_covar_sv.tab  --covar-variance-standardize --glm hide-covar --out gatksv_gwas_clean_1percent_calls  --bfile 1percent_clean_PD_gaksv_pass_bnd_maf_0.01_hwe_5e6_geno0.01  --pheno risk_pheno.tab"
   ]
  },
  {
   "cell_type": "code",
   "execution_count": null,
   "id": "56ec0abd-cdab-45f7-991d-e2b7ba775d1e",
   "metadata": {},
   "outputs": [],
   "source": [
    "plink2 --adjust-file gatksv_gwas_clean_1percent_calls.PHENO.glm.logistic test=ADD --out adjusted. gatksv_gwas_clean_1percent_calls.PHENO.glm.logistic"
   ]
  },
  {
   "cell_type": "markdown",
   "id": "b17ceb7b-bbb2-4361-a844-179db36fd764",
   "metadata": {},
   "source": [
    "#### 1.6. Plot Manhatten (on the hudson) Vs Summary stats of the Nalls 2019 SNV Meta-analysis 5 "
   ]
  },
  {
   "cell_type": "code",
   "execution_count": null,
   "id": "2ea85688-4888-437c-abbc-124d9aa52fa4",
   "metadata": {},
   "outputs": [],
   "source": [
    "awk '{print $3, $1, $2, $12}'gatksv_gwas_clean_1percent_calls.PHENO.glm.logistic > for_plotting_man_gatk_gwas.txt"
   ]
  },
  {
   "cell_type": "code",
   "execution_count": null,
   "id": "818b6412-da19-4fda-bf55-f6f2d3115d29",
   "metadata": {},
   "outputs": [],
   "source": [
    "#manually change header to SNP\tCHR\tPOS\tpvalue"
   ]
  },
  {
   "cell_type": "code",
   "execution_count": null,
   "id": "2cbc5d1b-f3d3-4403-b350-88641cb38f84",
   "metadata": {},
   "outputs": [],
   "source": [
    "## Do this in R/4.0\n",
    "devtools::install_github('anastasia-lucas/hudson')"
   ]
  },
  {
   "cell_type": "code",
   "execution_count": null,
   "id": "4f215350-0edd-4799-bd38-d218d3599c39",
   "metadata": {},
   "outputs": [],
   "source": [
    "library(hudson)"
   ]
  },
  {
   "cell_type": "code",
   "execution_count": null,
   "id": "3ba10479-6e07-4412-a04d-42fa232e0741",
   "metadata": {},
   "outputs": [],
   "source": [
    "meta5_plot <- read.table(file=\"/data/CARD/PD/GAK_SV/GWAS/plot_meta_5_hg38.tab\", header =T)\n",
    "gatksv_plot <- read.table(file=\"/data/CARD/PD/GATK-SV_22/GWAS/for_plotting_man_gatk_gwas.txt\", header =T)\n",
    "gangstr_plot <- read.table(file=\"/data/CARD/PD/GAK_SV/GWAS/plot_gangstr_hg38.tab\", header =T)"
   ]
  },
  {
   "cell_type": "code",
   "execution_count": null,
   "id": "479a27aa-79fa-482e-beff-e53e8722bbc5",
   "metadata": {},
   "outputs": [],
   "source": [
    "gmirror(top=gatksv_plot, bottom=meta5_plot, tline=5.34E-6, bline=5E-8,background = \"white\", file = \"new_gatksv_vs_meta_5_no23_HudsonPlot\",highlight_p = c(0.05/nrow(gatksv_plot),0.05/nrow(meta5_plot)),highlighter=\"green3\",toptitle=\"GAK-SV genome-wide association analysis\", bottomtitle = \" Meta 5 SNP genome-wide association analysis\", hgt = 14, hgtratio = 0.5, wi = 24, res = 300)"
   ]
  },
  {
   "cell_type": "markdown",
   "id": "45a5aa38-62f0-48ab-b533-82c32a9ee206",
   "metadata": {},
   "source": [
    "#### 1.7.Plot QQ-plot"
   ]
  },
  {
   "cell_type": "code",
   "execution_count": null,
   "id": "1c421f1a-4b7e-497b-a895-8ef4312172ba",
   "metadata": {},
   "outputs": [],
   "source": [
    "vignette('qqman')"
   ]
  },
  {
   "cell_type": "code",
   "execution_count": null,
   "id": "1a05e459-0a6f-4577-b0fc-fbba694c316c",
   "metadata": {},
   "outputs": [],
   "source": [
    "gaksv_plot <- read.table(file=\"for_plotting_man_gatk_gwas.txt\", header =T)"
   ]
  },
  {
   "cell_type": "code",
   "execution_count": null,
   "id": "329ba3ff-3c02-4100-b052-c905a477fa9e",
   "metadata": {},
   "outputs": [],
   "source": [
    "qq(gaksv_plot$pvalue, main = \"Q-Q plot of GATK_SV GWAS p-values\", xlim = c(0, 10), ylim = c(0, 10), pch = 18, col = \"blue4\", cex = 1.5, las = 1)"
   ]
  },
  {
   "cell_type": "code",
   "execution_count": null,
   "id": "0366083a-b886-47eb-bd20-7f22c5e63cdc",
   "metadata": {},
   "outputs": [],
   "source": [
    "## Lambda value"
   ]
  },
  {
   "cell_type": "code",
   "execution_count": null,
   "id": "8bebbbe1-2ac9-4ecc-ac45-9c00c459bf48",
   "metadata": {},
   "outputs": [],
   "source": [
    "data = read.table(\"for_plotting_man_gatk_gwas.txt\",header=T)\n",
    "p <- data$pvalue\n",
    "n <- length(data$pvalue)\n",
    "x2obs <- qchisq(as.numeric(as.character(p)), 1, lower.tail = FALSE)\n",
    "x2exp <- qchisq((1:n)/n, 1, lower.tail = FALSE)\n",
    "lambda <- median(x2obs)/median(x2exp)\n",
    "lambda"
   ]
  },
  {
   "cell_type": "markdown",
   "id": "dd536fc0-b975-4254-b9c0-4d45a3e810a5",
   "metadata": {},
   "source": [
    "### **2. Linkage Disequilibruim Analysis SNV & SV**"
   ]
  },
  {
   "cell_type": "markdown",
   "id": "80cb78bc-680c-445a-b26b-8bbcccaa02ad",
   "metadata": {},
   "source": [
    "#### 2.1. Calc R2 for PR risk SNPs"
   ]
  },
  {
   "cell_type": "code",
   "execution_count": null,
   "id": "ff415e5d-94e3-488b-9757-88e5c4a6cf43",
   "metadata": {},
   "outputs": [],
   "source": [
    "module load plink/1.9\n",
    "for f in `cat PD_risk.SNVs.txt`\n",
    "    do\n",
    "         plink --bfile  1percent_clean_PD_gaksv_pass_bnd_maf_0.01_hwe_5e6_geno0.01 --ld-snp ${f} --out ${f}.risk.ld.pairs --r2 inter-chr dprime --silent \n",
    "    done"
   ]
  },
  {
   "cell_type": "markdown",
   "id": "7aa57b6f-c689-4db7-a51a-adb24c963a06",
   "metadata": {},
   "source": [
    "#### 2.2. Pull out SV of interest "
   ]
  },
  {
   "cell_type": "code",
   "execution_count": null,
   "id": "d10e9a79-fb55-4d99-ae80-b64a96120f53",
   "metadata": {},
   "outputs": [],
   "source": [
    "## Lets see how many SV are in LD\n",
    "grep \"PD_\" *risk.ld.pairs.ld*"
   ]
  },
  {
   "cell_type": "markdown",
   "id": "56761b4d-33a3-4d65-8487-e3163151120a",
   "metadata": {},
   "source": [
    "grep \"PD_\" *risk.ld.pairs.ld* > GATK_SV_in_ld_PD_risk_snvs_inter_chr_dprime.txt"
   ]
  },
  {
   "cell_type": "code",
   "execution_count": null,
   "id": "02d27656-f42d-4d05-8199-02eaf76b49cd",
   "metadata": {},
   "outputs": [],
   "source": [
    " awk -v OFS='\\t' '{print $7}' GATK_SV_in_ld_PD_risk_snvs_inter_chr_dprime.txt > GATK_SV_ID_in_ld_PD.txt"
   ]
  },
  {
   "cell_type": "code",
   "execution_count": 6,
   "id": "9ac63925-35be-41b7-a131-8830f7e5bba7",
   "metadata": {},
   "outputs": [],
   "source": []
  },
  {
   "cell_type": "markdown",
   "id": "959940ce-56df-4cfd-82b1-0d67f9bb3737",
   "metadata": {},
   "source": [
    "### **3.Long-Read Sequencing (LRS) SV analysis with Sniffles2**"
   ]
  },
  {
   "cell_type": "markdown",
   "id": "6ae64116-08db-4ef3-9b46-f3f04b566169",
   "metadata": {},
   "source": [
    "#### 3.1. Run Sniffle2 on hg38 mapped LRS bam"
   ]
  },
  {
   "cell_type": "code",
   "execution_count": null,
   "id": "3584e1fd-4d9e-4a92-b823-1bd722d5af14",
   "metadata": {},
   "outputs": [],
   "source": [
    "module load sniffles/2.0.3"
   ]
  },
  {
   "cell_type": "code",
   "execution_count": null,
   "id": "39fb1980-4f1d-48b7-bf45-afa4eb0ceea9",
   "metadata": {},
   "outputs": [],
   "source": [
    "sniffles -i PPMI_3404_BLOOD_merged_sorted.bam --tandem-repeats  human_GRCh38_no_alt_analysis_set.bed -v PPMISI3404_sniffles2_tandemrepeats.vcf\n",
    "sniffles -i PPMI_4018_BLOOD_merged_sorted.bam --tandem-repeats  human_GRCh38_no_alt_analysis_set.bed -v PPMISI4018_sniffles2_tandemrepeats.vcf\n",
    "sniffles -i PPMI_3223_BLOOD_merged_sorted.bam --tandem-repeats  human_GRCh38_no_alt_analysis_set.bed -v PPMISI3223_sniffles2_tandemrepeats.vcf\n",
    "sniffles -i PPMI_3173-BLOOD_merged_sorted.bam --tandem-repeats  human_GRCh38_no_alt_analysis_set.bed -v PPMISI3173_sniffles2_tandemrepeats.vcf\n",
    "sniffles -i PPMI_3150_BLOOD_merged_sorted.bam --tandem-repeats  human_GRCh38_no_alt_analysis_set.bed -v PPMISI3150_sniffles2_tandemrepeats.vcf\n",
    "sniffles -i PPMI_4011_BLOOD_merged_sorted.bam --tandem-repeats  human_GRCh38_no_alt_analysis_set.bed  -v PPMISI4011_sniffles2_tandemrepeats.vcf\n",
    "sniffles -i PPMI_PPMI3951_Blood_test_merged_sorted.bam --tandem-repeats  human_GRCh38_no_alt_analysis_set.bed -v PPMISI3951_sniffles2_tandemrepeats.vcf\n",
    "sniffles -i PPMI_PPMI3469_Blood_test_merged_sorted.bam --tandem-repeats  human_GRCh38_no_alt_analysis_set.bed -v PPMISI3469_sniffles2_tandemrepeats.vcf"
   ]
  },
  {
   "cell_type": "markdown",
   "id": "08f581a6-865c-4430-ba3a-e1467ecaa4b7",
   "metadata": {},
   "source": [
    "#### 3.2. Run variant QC with SURVIVOR"
   ]
  },
  {
   "cell_type": "code",
   "execution_count": null,
   "id": "df66c7df-8676-4c01-8019-285a8cd3f39d",
   "metadata": {},
   "outputs": [],
   "source": [
    "### The number of SV is still high per genome because we need to do more QC to remove short reads "
   ]
  },
  {
   "cell_type": "code",
   "execution_count": null,
   "id": "4bf27020-0270-428c-9088-a024308ea841",
   "metadata": {},
   "outputs": [],
   "source": [
    "module load survivor "
   ]
  },
  {
   "cell_type": "code",
   "execution_count": null,
   "id": "a77f0bd5-07ca-488c-913d-33ad8a54bb64",
   "metadata": {},
   "outputs": [],
   "source": [
    "# Remove SV > 50bp with SURVIVOR \n",
    "for f in `cat ppmi_samples_lrs_blood.txt`\n",
    "    do\n",
    "    SURVIVOR filter ${f}_sniffles2_tandemrepeats.vcf NA 50 -1 -1 -1 ${f}_no_50bpSV.vcf\n",
    "    done"
   ]
  },
  {
   "cell_type": "code",
   "execution_count": null,
   "id": "b4ba454b-0881-4a48-9e1b-c40153e0cd2f",
   "metadata": {},
   "outputs": [],
   "source": [
    "for f in `cat ppmi_samples_lrs_blood.txt`\n",
    "    do\n",
    "    grep -vc '#' ${f}_no_50bpSV.vcf\n",
    "    done "
   ]
  },
  {
   "cell_type": "code",
   "execution_count": null,
   "id": "355e2f8a-9871-44f4-8f80-57be296ee548",
   "metadata": {},
   "outputs": [],
   "source": [
    " for f in `cat ppmi_samples_lrs_blood.txt`\n",
    "    do\n",
    "    SURVIVOR stats ${f}_no_50bpSV.vcf -1 -1 -1 ${f}_no_50bpSV.sum.stats\n",
    "    done"
   ]
  },
  {
   "cell_type": "code",
   "execution_count": null,
   "id": "12fb11f1-4439-48cd-94fc-31c170883941",
   "metadata": {},
   "outputs": [],
   "source": [
    "for f in `cat ppmi_samples_lrs_blood.txt`\n",
    "    do\n",
    "    bgzip -c  ${f}_no_50bpSV.vcf  > ${f}_no_50bpSV.vcf.gz\n",
    "    tabix -p vcf ${f}_no_50bpSV.vcf.gz\n",
    "done"
   ]
  },
  {
   "cell_type": "markdown",
   "id": "a2cb1f76-b42f-44f3-9140-6eb88a93b0d4",
   "metadata": {},
   "source": [
    "#### **4. SRS SV confirmation with LRS and Truvari**"
   ]
  },
  {
   "cell_type": "markdown",
   "id": "bdece5df-5ba8-4022-aa00-863b452b5609",
   "metadata": {},
   "source": [
    "#### 4.1. Create SRS GATK-SV vcf per sample"
   ]
  },
  {
   "cell_type": "code",
   "execution_count": null,
   "id": "76bb0460-c543-48cc-a92c-3c91df265752",
   "metadata": {},
   "outputs": [],
   "source": [
    "module load bcftools"
   ]
  },
  {
   "cell_type": "code",
   "execution_count": null,
   "id": "ca242a86-39b1-4f95-96ae-8a266d548800",
   "metadata": {},
   "outputs": [],
   "source": [
    "for f in `cat ppmi_samples_lrs_blood.txt`\n",
    "    do\n",
    "    bcftools view -s ${f} clean_gatksv_1percent_samples_for_gwas.vcf > ${f}_pass_1percent_sv.vcf\n",
    "    done"
   ]
  },
  {
   "cell_type": "code",
   "execution_count": null,
   "id": "fb27f6c7-e261-48b0-b432-a843ecabe1cc",
   "metadata": {},
   "outputs": [],
   "source": [
    " for f in `cat ppmi_samples_lrs_blood.txt`\n",
    "    do       \n",
    "        bcftools view ${f}_pass_1percent_sv.vcf --min-ac=1 > carriers_${f}_pass_1percent_sv.vcf\n",
    "        bgzip -c carriers_${f}.pass_1percent_sv.vcf > carriers_${f}.pass_1percent_sv.vcf.gz\n",
    "        tabix -p vcf carriers_${f}.pass_1percent_sv.vcf.gz  \n",
    "    done"
   ]
  },
  {
   "cell_type": "markdown",
   "id": "f00dc58f-a231-48c7-aa4b-d4e7d66bb67e",
   "metadata": {},
   "source": [
    "#### 4.2. Run Truvari comparing SRS and LRS "
   ]
  },
  {
   "cell_type": "code",
   "execution_count": null,
   "id": "71ee4fb2-fd26-4fc8-b9f1-95bbb1a99f9b",
   "metadata": {},
   "outputs": [],
   "source": [
    "## GATK-SV \"PASS\" SV"
   ]
  },
  {
   "cell_type": "code",
   "execution_count": null,
   "id": "3fce76c1-3844-41e5-b1ad-df02e9d9470b",
   "metadata": {},
   "outputs": [],
   "source": [
    "source  /data/CARD/PD/GAK_SV/GWAS/GATK_ONT_VAPOR/vapor/conda/etc/profile.d/conda.sh"
   ]
  },
  {
   "cell_type": "code",
   "execution_count": null,
   "id": "12e95c65-201e-4871-9142-0429817ceb63",
   "metadata": {},
   "outputs": [],
   "source": [
    "conda activate truvari"
   ]
  },
  {
   "cell_type": "code",
   "execution_count": null,
   "id": "ddb71703-266a-4c02-a125-0077172f9032",
   "metadata": {},
   "outputs": [],
   "source": [
    "for f in `cat ppmi_samples_lrs_blood.txt`\n",
    "    do\n",
    "        truvari bench -b ${f}_no_50bpSV.vcf.gz  -c carriers_${f}.pass_1percent_sv.vcf.gz  --pctsim=0 -f /fdb/GENCODE/Gencode_human/release_38/GRCh38.primary_assembly.genome.fa -o ${f}_truvari_repeat_filteredLRSSV\n",
    "    done"
   ]
  }
 ],
 "metadata": {
  "kernelspec": {
   "display_name": "Bash",
   "language": "bash",
   "name": "bash"
  },
  "language_info": {
   "codemirror_mode": "shell",
   "file_extension": ".sh",
   "mimetype": "text/x-sh",
   "name": "bash"
  }
 },
 "nbformat": 4,
 "nbformat_minor": 5
}
